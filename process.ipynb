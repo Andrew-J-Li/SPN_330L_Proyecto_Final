{
 "cells": [
  {
   "cell_type": "code",
   "execution_count": 4,
   "id": "38de10bb",
   "metadata": {},
   "outputs": [],
   "source": [
    "import pandas as pd\n",
    "import os"
   ]
  },
  {
   "cell_type": "code",
   "execution_count": null,
   "id": "81dbae98",
   "metadata": {},
   "outputs": [],
   "source": [
    "df_data = pd.read_csv('data/data.csv')\n",
    "df_blp = pd.read_csv('data/BLP.csv')\n",
    "\n",
    "def format_name_blp(name):\n",
    "    if pd.isna(name) or ',' not in name:\n",
    "        return name\n",
    "    last, first = [part.strip() for part in name.split(',', 1)]\n",
    "    return f\"{first} {last}\"\n",
    "\n",
    "df_data['Name'] = df_data['Name'].str.strip()\n",
    "df_blp['Name'] = df_blp['Name'].apply(format_name_blp).str.strip()\n",
    "\n",
    "merged_df = pd.merge(df_data, df_blp, on='Name', how='inner')\n",
    "merged_df.to_csv('data/merged.csv', index=False)"
   ]
  },
  {
   "cell_type": "code",
   "execution_count": null,
   "id": "a69bf064",
   "metadata": {},
   "outputs": [],
   "source": [
    "merged_df.insert(0, 'AnonID', [f\"({i+1})\" for i in range(len(merged_df))])\n",
    "merged_df.drop(columns=['Name'], inplace=True)\n",
    "\n",
    "os.makedirs('anonimized_data', exist_ok=True)\n",
    "merged_df.to_csv('anonimized_data/merged_anon.csv', index=False)\n",
    "print(\"Anonymized file saved to anonimized_data/merged_anon.csv\")"
   ]
  },
  {
   "cell_type": "code",
   "execution_count": null,
   "id": "011319a9",
   "metadata": {},
   "outputs": [],
   "source": [
    "merged_df"
   ]
  }
 ],
 "metadata": {
  "kernelspec": {
   "display_name": ".conda",
   "language": "python",
   "name": "python3"
  },
  "language_info": {
   "codemirror_mode": {
    "name": "ipython",
    "version": 3
   },
   "file_extension": ".py",
   "mimetype": "text/x-python",
   "name": "python",
   "nbconvert_exporter": "python",
   "pygments_lexer": "ipython3",
   "version": "3.11.9"
  }
 },
 "nbformat": 4,
 "nbformat_minor": 5
}
